{
 "cells": [
  {
   "cell_type": "code",
   "execution_count": 1,
   "metadata": {},
   "outputs": [],
   "source": [
    "import matplotlib.pyplot as plt\n",
    "import numpy as np\n",
    "import os\n",
    "import dataGathandMan\n",
    "from minisom import MiniSom\n",
    "from itertools import product\n",
    "import pickle\n",
    "\n",
    "np.random.seed(42)"
   ]
  },
  {
   "cell_type": "code",
   "execution_count": 2,
   "metadata": {},
   "outputs": [
    {
     "name": "stdout",
     "output_type": "stream",
     "text": [
      "Processing image: /home/tcarlyon/classes/aiclass/RawData/TreeCover.tiff\n",
      "Processing image: /home/tcarlyon/classes/aiclass/RawData/ImpDesc.tiff\n",
      "Processing image: /home/tcarlyon/classes/aiclass/RawData/IR.tiff\n",
      "Processing image: /home/tcarlyon/classes/aiclass/RawData/FracImp.tiff\n",
      "Processing image: /home/tcarlyon/classes/aiclass/RawData/Height.tiff\n",
      "Processing image: /home/tcarlyon/classes/aiclass/RawData/Visible.tiff\n",
      "all_patches shape: (4096, 128, 128, 11)\n",
      "data shape: (4096, 128, 128, 11)\n"
     ]
    }
   ],
   "source": [
    "# Get all image paths in the folder\n",
    "folder_path = \"/home/tcarlyon/classes/aiclass/RawData/\"\n",
    "image_paths = [os.path.join(folder_path, f) for f in os.listdir(folder_path) if f.endswith('.tiff')]\n",
    "square_size = 128\n",
    "numpatches = 2048*2\n",
    "# Randomly sample patches\n",
    "#data = dataGathandMan.load_images(image_paths)\n",
    "data = dataGathandMan.random_sample_patches(image_paths, square_size, numpatches)\n",
    "# Ensure the data shape is correct\n",
    "print(f\"data shape: {data.shape}\")\n",
    "image_width = data.shape[-3]\n",
    "image_height = data.shape[-2]\n",
    "image_features = data.shape[-1]"
   ]
  },
  {
   "cell_type": "code",
   "execution_count": 3,
   "metadata": {},
   "outputs": [
    {
     "name": "stdout",
     "output_type": "stream",
     "text": [
      "(4096, 128, 128, 11)\n",
      "first data point before reshape: [[0.16601307 0.         0.48235294 ... 0.2745098  0.36078431 0.27843137]\n",
      " [0.23529412 0.         0.5254902  ... 0.2745098  0.36078431 0.27843137]\n",
      " [0.26797386 0.         0.4745098  ... 0.26666667 0.35294118 0.27058824]\n",
      " ...\n",
      " [0.19869281 0.         0.5254902  ... 0.25098039 0.33333333 0.26666667]\n",
      " [0.26797386 0.         0.52156863 ... 0.24705882 0.32941176 0.2627451 ]\n",
      " [0.26797386 0.         0.51764706 ... 0.25490196 0.3372549  0.27058824]]\n",
      "first data point after reshape: [1.66013072e-01 0.00000000e+00 4.82352941e-01 5.01960784e-01\n",
      " 1.33333333e-01 0.00000000e+00 3.73953313e-04 1.19751422e-02\n",
      " 2.74509804e-01 3.60784314e-01 2.78431373e-01]\n",
      "last data point before reshape: [[1.90849673e-01 0.00000000e+00 5.09803922e-01 ... 2.47058824e-01\n",
      "  3.45098039e-01 2.82352941e-01]\n",
      " [1.90849673e-01 0.00000000e+00 5.64705882e-01 ... 2.58823529e-01\n",
      "  3.72549020e-01 3.01960784e-01]\n",
      " [1.90849673e-01 0.00000000e+00 5.64705882e-01 ... 2.58823529e-01\n",
      "  3.72549020e-01 3.01960784e-01]\n",
      " ...\n",
      " [0.00000000e+00 1.81818182e-04 7.64705882e-01 ... 4.23529412e-01\n",
      "  5.29411765e-01 4.23529412e-01]\n",
      " [0.00000000e+00 1.81818182e-04 8.43137255e-01 ... 3.96078431e-01\n",
      "  5.17647059e-01 4.03921569e-01]\n",
      " [0.00000000e+00 1.81818182e-04 8.43137255e-01 ... 3.96078431e-01\n",
      "  5.17647059e-01 4.03921569e-01]]\n",
      "last data point after reshape: [0.00000000e+00 1.81818182e-04 8.43137255e-01 7.37254902e-01\n",
      " 5.52941176e-01 4.54545455e-04 3.23154964e-05 8.89382139e-03\n",
      " 3.96078431e-01 5.17647059e-01 4.03921569e-01]\n"
     ]
    }
   ],
   "source": [
    "# Reshape the data for clustering\n",
    "reshaped_data = data.reshape(square_size ** 2 * numpatches, image_features)\n",
    "print(data.shape)\n",
    "print(f\"first data point before reshape: {data[0, 0, :]}\")\n",
    "print(f\"first data point after reshape: {reshaped_data[0]}\")\n",
    "print(f\"last data point before reshape: {data[-1, -1, :]}\")\n",
    "print(f\"last data point after reshape: {reshaped_data[-1]}\")"
   ]
  },
  {
   "cell_type": "code",
   "execution_count": 6,
   "metadata": {},
   "outputs": [],
   "source": [
    "# SOM hyperparameters\n",
    "\n",
    "# set som lattice dimensions (i.e., number of nodes)\n",
    "som_grid_rows = 5\n",
    "som_grid_columns = 5\n",
    "\n",
    "# number of weights per node\n",
    "input_length = image_features\n",
    "\n",
    "# Spread of the neighborhood function, needs to be adequate to the dimensions\n",
    "# of the map. (rows/columns minus 1 usually)\n",
    "sigma = 0.5\n",
    "\n",
    "# initial learning rate (at the iteration t we have learning_rate(t) =\n",
    "# learning_rate / (1 + t/T) where T is #num_iteration/2)\n",
    "learning_rate = 0.1\n",
    "\n",
    "# Function that reduces learning_rate at each iteration\n",
    "# Possible values: 'inverse_decay_to_zero', 'linear_decay_to_zero', 'asymptotic_decay'\n",
    "# 'inverse_decay_to_zero' == > C = max_iter / 100.0; where, learning_rate * C / (C + t)\n",
    "# 'linear_decay_to_zero' == > learning_rate * (1 - t / max_iter)\n",
    "# 'asymptotic_decay' == > dynamic_parameter / (1 + t / (max_iter / 2))\n",
    "# ^^Decay function of the learning process and sigma that decays these values asymptotically to 1/3 of their original values.\n",
    "decay_function='inverse_decay_to_zero'\n",
    "\n",
    "# Function that reduces sigma at each iteration.\n",
    "# Possible values: 'inverse_decay_to_one', 'linear_decay_to_one', 'asymptotic_decay'\n",
    "# 'inverse_decay_to_one' == > C = (sigma - 1) / max_iter; where, sigma / (1 + (t * C))\n",
    "# 'linear_decay_to_one' == > sigma + (t * (1 - sigma) / max_iter)\n",
    "sigma_decay_function='inverse_decay_to_one'\n",
    "\n",
    "# Function that weights the neighborhood of a position in the map.\n",
    "# Possible values: 'gaussian', 'mexican_hat', 'bubble', 'triangle',\n",
    "# which takes in sigma.\n",
    "neighborhood_function = 'gaussian'\n",
    "\n",
    "# Topology of the map; Possible values: 'rectangular', 'hexagonal'\n",
    "topology = 'rectangular'\n",
    "\n",
    "# Distance used to activate the map; Possible values: 'euclidean', 'cosine', 'manhattan', 'chebyshev'\n",
    "activation_distance = 'euclidean'\n",
    "\n",
    "# Random seed to use for reproducibility. Using 1.\n",
    "random_seed = 1"
   ]
  },
  {
   "cell_type": "code",
   "execution_count": 5,
   "metadata": {},
   "outputs": [
    {
     "data": {
      "text/plain": [
       "<minisom.MiniSom at 0x7f815617d100>"
      ]
     },
     "execution_count": 5,
     "metadata": {},
     "output_type": "execute_result"
    }
   ],
   "source": [
    "# lets create our som object with preset hyperparameters\n",
    "som = MiniSom(\n",
    "            som_grid_rows,\n",
    "            som_grid_columns,\n",
    "            input_length,\n",
    "            sigma,\n",
    "            learning_rate,\n",
    "            decay_function,\n",
    "            neighborhood_function,\n",
    "            topology,\n",
    "            activation_distance,\n",
    "            random_seed,\n",
    "            sigma_decay_function\n",
    "            )\n",
    "som"
   ]
  },
  {
   "cell_type": "code",
   "execution_count": null,
   "metadata": {},
   "outputs": [
    {
     "name": "stdout",
     "output_type": "stream",
     "text": [
      " [ 1 / 1 ] 100% - 0:00:00 left "
     ]
    },
    {
     "name": "stderr",
     "output_type": "stream",
     "text": [
      "/home/tcarlyon/miniconda3/envs/keras-tf-v2025/lib/python3.12/site-packages/minisom.py:631: RuntimeWarning: invalid value encountered in sqrt\n",
      "  return sqrt(-2 * cross_term + input_data_sq + weights_flat_sq.T)\n"
     ]
    },
    {
     "name": "stdout",
     "output_type": "stream",
     "text": [
      "\n",
      " quantization error: 0.22345329107104897\n",
      " [ 1 / 1 ] 100% - 0:00:00 left \n",
      " quantization error: 0.22323951449376095\n",
      " [ 1 / 1 ] 100% - 0:00:00 left \n",
      " quantization error: 0.22307260288628308\n",
      " [ 1 / 1 ] 100% - 0:00:00 left \n",
      " quantization error: 0.22294509344601363\n",
      " [ 1 / 1 ] 100% - 0:00:00 left \n",
      " quantization error: 0.22284892984760193\n",
      " [ 1 / 1 ] 100% - 0:00:00 left \n",
      " quantization error: 0.22277668114352062\n",
      " [ 1 / 1 ] 100% - 0:00:00 left \n",
      " quantization error: 0.22272211568632438\n",
      " [ 1 / 1 ] 100% - 0:00:00 left \n",
      " quantization error: 0.22268011791299108\n",
      " [ 1 / 1 ] 100% - 0:00:00 left \n",
      " quantization error: 0.22264673122295106\n",
      " [ 1 / 1 ] 100% - 0:00:00 left \n",
      " quantization error: 0.22261896298655356\n",
      " [ 1 / 1 ] 100% - 0:00:00 left \n",
      " quantization error: 0.22259463993237052\n",
      " [ 1 / 1 ] 100% - 0:00:00 left \n",
      " quantization error: 0.22257227913366068\n",
      " [ 1 / 1 ] 100% - 0:00:00 left \n",
      " quantization error: 0.22255092492398312\n",
      " [ 1 / 1 ] 100% - 0:00:00 left \n",
      " quantization error: 0.22252993190362616\n",
      " [ 1 / 1 ] 100% - 0:00:00 left \n",
      " quantization error: 0.22250893955819892\n",
      " [ 1 / 1 ] 100% - 0:00:00 left \n",
      " quantization error: 0.2224877949404239\n",
      " [ 1 / 1 ] 100% - 0:00:00 left \n",
      " quantization error: 0.22246643877283345\n",
      " [ 1 / 1 ] 100% - 0:00:00 left \n",
      " quantization error: 0.22244492053332415\n",
      " [ 1 / 1 ] 100% - 0:00:00 left \n",
      " quantization error: 0.22242333171369116\n",
      " [ 1 / 1 ] 100% - 0:00:00 left \n",
      " quantization error: 0.2224017687833365\n",
      " [ 1 / 1 ] 100% - 0:00:00 left \n",
      " quantization error: 0.22238037196631724\n",
      " [ 1 / 1 ] 100% - 0:00:00 left \n",
      " quantization error: 0.22235927805456887\n",
      " [ 1 / 1 ] 100% - 0:00:00 left \n",
      " quantization error: 0.22233862293669465\n",
      " [ 1 / 1 ] 100% - 0:00:00 left \n",
      " quantization error: 0.2223185182097076\n",
      " [ 1 / 1 ] 100% - 0:00:00 left \n",
      " quantization error: 0.222299092259648\n",
      " [ 1 / 1 ] 100% - 0:00:00 left \n",
      " quantization error: 0.2222804436163505\n",
      " [ 1 / 1 ] 100% - 0:00:00 left \n",
      " quantization error: 0.22226265332699902\n",
      " [ 1 / 1 ] 100% - 0:00:00 left \n",
      " quantization error: 0.22224579274771195\n",
      " [ 1 / 1 ] 100% - 0:00:00 left \n",
      " quantization error: 0.22222992465978356\n",
      " [ 1 / 1 ] 100% - 0:00:00 left \n",
      " quantization error: 0.2222150889533891\n"
     ]
    }
   ],
   "source": [
    "# some training hyperparameters\n",
    "epochs = 100\n",
    "random_order = True\n",
    "verbose = True\n",
    "\n",
    "# let's initialize the weights\n",
    "som.random_weights_init(reshaped_data)\n",
    "# now train!\n",
    "errors = []\n",
    "for epoch in range(epochs):\n",
    "    som.train(reshaped_data, 1, random_order, verbose)\n",
    "    quantization_error = som.quantization_error(reshaped_data)\n",
    "    errors.append(quantization_error)\n",
    "\n",
    "# saving the som in the file som.p\n",
    "with open('som.p', 'wb') as outfile:\n",
    "    pickle.dump(som, outfile)\n",
    "\n",
    "# Plot the training validation curve\n",
    "plt.figure()\n",
    "plt.loglog(range(epochs), errors)\n",
    "plt.xlabel(\"Epoch\")\n",
    "plt.ylabel(\"Quantization Error\")\n",
    "plt.title(\"Training Validation Curve\")\n",
    "plt.show()"
   ]
  },
  {
   "cell_type": "code",
   "execution_count": 4,
   "metadata": {},
   "outputs": [
    {
     "name": "stdout",
     "output_type": "stream",
     "text": [
      "SOM loaded successfully.\n"
     ]
    }
   ],
   "source": [
    "# Load the SOM from the file som.p\n",
    "with open('som.p', 'rb') as infile:\n",
    "    som = pickle.load(infile)\n",
    "\n",
    "print(\"SOM loaded successfully.\")"
   ]
  },
  {
   "cell_type": "code",
   "execution_count": null,
   "metadata": {},
   "outputs": [
    {
     "name": "stdout",
     "output_type": "stream",
     "text": [
      "random_all_patches shape: (4096, 128, 128, 11)\n"
     ]
    },
    {
     "ename": "NameError",
     "evalue": "name 'som_grid_rows' is not defined",
     "output_type": "error",
     "traceback": [
      "\u001b[0;31m---------------------------------------------------------------------------\u001b[0m",
      "\u001b[0;31mNameError\u001b[0m                                 Traceback (most recent call last)",
      "Cell \u001b[0;32mIn[5], line 7\u001b[0m\n\u001b[1;32m      5\u001b[0m plt\u001b[38;5;241m.\u001b[39mcolorbar()\n\u001b[1;32m      6\u001b[0m plt\u001b[38;5;241m.\u001b[39mtitle(\u001b[38;5;124m\"\u001b[39m\u001b[38;5;124mdata frequency (2d histogram) across SOM lattice\u001b[39m\u001b[38;5;124m\"\u001b[39m, fontsize\u001b[38;5;241m=\u001b[39m\u001b[38;5;241m12\u001b[39m)\n\u001b[0;32m----> 7\u001b[0m plt\u001b[38;5;241m.\u001b[39mylim(som_grid_rows, \u001b[38;5;241m0\u001b[39m)  \u001b[38;5;66;03m# flip the y axis to be the same as composite map axes later\u001b[39;00m\n\u001b[1;32m      8\u001b[0m plt\u001b[38;5;241m.\u001b[39mshow()\n\u001b[1;32m     10\u001b[0m \u001b[38;5;66;03m# Flatten the 2D frequency array into 1D\u001b[39;00m\n",
      "\u001b[0;31mNameError\u001b[0m: name 'som_grid_rows' is not defined"
     ]
    },
    {
     "data": {
      "image/png": "[encoded data removed]",
      "text/plain": [
       "<Figure size 640x480 with 2 Axes>"
      ]
     },
     "metadata": {},
     "output_type": "display_data"
    }
   ],
   "source": [
    "print(f\"random_all_patches shape: {data.shape}\")\n",
    "plt.figure()\n",
    "frequencies = som.activation_response(data.reshape(numpatches * square_size ** 2, data.shape[-1]))\n",
    "\n",
    "\n",
    "plt.pcolormesh(frequencies, cmap='Blues')\n",
    "plt.colorbar()\n",
    "plt.title(\"data frequency (2d histogram) across SOM lattice\", fontsize=12)\n",
    "plt.ylim(som_grid_rows, 0)  # flip the y axis to be the same as composite map axes later\n",
    "plt.show()\n",
    "\n",
    "# Flatten the 2D frequency array into 1D\n",
    "frequencies_flat = frequencies.flatten()\n",
    "# Sort the frequencies from least common to most common\n",
    "sorted_frequencies = np.sort(frequencies_flat)\n",
    "\n",
    "# Plot the sorted frequencies as a 1D histogram\n",
    "plt.figure()\n",
    "plt.bar(range(len(sorted_frequencies)), sorted_frequencies, color='blue', alpha=0.7)\n",
    "plt.xlabel(\"SOM Nodes (sorted by frequency)\")\n",
    "plt.ylabel(\"Frequency\")\n",
    "plt.title(\"1D Histogram of SOM Node Frequencies (Least to Most Common)\")\n",
    "plt.show()"
   ]
  },
  {
   "cell_type": "code",
   "execution_count": 8,
   "metadata": {},
   "outputs": [
    {
     "name": "stdout",
     "output_type": "stream",
     "text": [
      "Number of SOM nodes: 25\n"
     ]
    }
   ],
   "source": [
    "# grabbing indices from SOM\n",
    "\n",
    "# create an empty dictionary using the rows and columns of SOM\n",
    "keys = [i for i in product(range(som_grid_rows), range(som_grid_columns))]\n",
    "winmap = {key: [] for key in keys}\n",
    "\n",
    "# grab the indices for the data within the SOM lattice\n",
    "for i, x in enumerate(data[1].reshape(image_height * image_width, data.shape[-1])):\n",
    "    winmap[som.winner(x)].append(i)\n",
    "\n",
    "som_keys = list(winmap.keys())\n",
    "print(f\"Number of SOM nodes: {len(som_keys)}\")"
   ]
  },
  {
   "cell_type": "code",
   "execution_count": 9,
   "metadata": {},
   "outputs": [
    {
     "data": {
      "text/plain": [
       "[]"
      ]
     },
     "execution_count": 9,
     "metadata": {},
     "output_type": "execute_result"
    }
   ],
   "source": [
    "winmap[(0,0)]"
   ]
  },
  {
   "cell_type": "code",
   "execution_count": 10,
   "metadata": {},
   "outputs": [],
   "source": [
    "# Define cluster_dict from winmap\n",
    "cluster_dict = {key: value for key, value in winmap.items() if value}\n",
    "\n",
    "# Define height and width based on square_size\n",
    "height, width = square_size, square_size\n",
    "\n",
    "# Initialize a 1D array for cluster labels, default to -1 (unlabeled)\n",
    "flattened_labels = np.full(square_size**2, -1)\n",
    "\n",
    "# Assign each pixel to its corresponding cluster index\n",
    "for cluster_idx, (cluster_name, pixel_indices) in enumerate(cluster_dict.items()):\n",
    "    flattened_labels[pixel_indices] = cluster_idx  # Assign a unique index to each cluster\n",
    "\n",
    "# Reshape to 2D\n",
    "image_clusters = flattened_labels.reshape(height, width)\n"
   ]
  },
  {
   "cell_type": "code",
   "execution_count": null,
   "metadata": {},
   "outputs": [
    {
     "data": {
      "image/png": "[encoded data removed]",
      "text/plain": [
       "<Figure size 500x500 with 2 Axes>"
      ]
     },
     "metadata": {},
     "output_type": "display_data"
    },
    {
     "ename": "TypeError",
     "evalue": "Invalid shape (128, 128, 2) for image data",
     "output_type": "error",
     "traceback": [
      "\u001b[0;31m---------------------------------------------------------------------------\u001b[0m",
      "\u001b[0;31mTypeError\u001b[0m                                 Traceback (most recent call last)",
      "Cell \u001b[0;32mIn[14], line 13\u001b[0m\n\u001b[1;32m     11\u001b[0m plt\u001b[38;5;241m.\u001b[39mfigure(figsize\u001b[38;5;241m=\u001b[39m(\u001b[38;5;241m5\u001b[39m, \u001b[38;5;241m5\u001b[39m))\n\u001b[1;32m     12\u001b[0m rgb_image \u001b[38;5;241m=\u001b[39m data[\u001b[38;5;241m1\u001b[39m, :, :, \u001b[38;5;241m9\u001b[39m:]  \u001b[38;5;66;03m# Normalize to [0, 1] range for RGB\u001b[39;00m\n\u001b[0;32m---> 13\u001b[0m plt\u001b[38;5;241m.\u001b[39mimshow(rgb_image, interpolation\u001b[38;5;241m=\u001b[39m\u001b[38;5;124m\"\u001b[39m\u001b[38;5;124mnearest\u001b[39m\u001b[38;5;124m\"\u001b[39m)\n\u001b[1;32m     14\u001b[0m plt\u001b[38;5;241m.\u001b[39mtitle(\u001b[38;5;124m\"\u001b[39m\u001b[38;5;124mVisible Spectrum Data (RGB)\u001b[39m\u001b[38;5;124m\"\u001b[39m)\n\u001b[1;32m     15\u001b[0m plt\u001b[38;5;241m.\u001b[39maxis(\u001b[38;5;124m\"\u001b[39m\u001b[38;5;124moff\u001b[39m\u001b[38;5;124m\"\u001b[39m)  \u001b[38;5;66;03m# Turn off axis for better visualization\u001b[39;00m\n",
      "File \u001b[0;32m~/miniconda3/envs/keras-tf-v2025/lib/python3.12/site-packages/matplotlib/pyplot.py:3592\u001b[0m, in \u001b[0;36mimshow\u001b[0;34m(X, cmap, norm, aspect, interpolation, alpha, vmin, vmax, colorizer, origin, extent, interpolation_stage, filternorm, filterrad, resample, url, data, **kwargs)\u001b[0m\n\u001b[1;32m   3570\u001b[0m \u001b[38;5;129m@_copy_docstring_and_deprecators\u001b[39m(Axes\u001b[38;5;241m.\u001b[39mimshow)\n\u001b[1;32m   3571\u001b[0m \u001b[38;5;28;01mdef\u001b[39;00m \u001b[38;5;21mimshow\u001b[39m(\n\u001b[1;32m   3572\u001b[0m     X: ArrayLike \u001b[38;5;241m|\u001b[39m PIL\u001b[38;5;241m.\u001b[39mImage\u001b[38;5;241m.\u001b[39mImage,\n\u001b[0;32m   (...)\u001b[0m\n\u001b[1;32m   3590\u001b[0m     \u001b[38;5;241m*\u001b[39m\u001b[38;5;241m*\u001b[39mkwargs,\n\u001b[1;32m   3591\u001b[0m ) \u001b[38;5;241m-\u001b[39m\u001b[38;5;241m>\u001b[39m AxesImage:\n\u001b[0;32m-> 3592\u001b[0m     __ret \u001b[38;5;241m=\u001b[39m gca()\u001b[38;5;241m.\u001b[39mimshow(\n\u001b[1;32m   3593\u001b[0m         X,\n\u001b[1;32m   3594\u001b[0m         cmap\u001b[38;5;241m=\u001b[39mcmap,\n\u001b[1;32m   3595\u001b[0m         norm\u001b[38;5;241m=\u001b[39mnorm,\n\u001b[1;32m   3596\u001b[0m         aspect\u001b[38;5;241m=\u001b[39maspect,\n\u001b[1;32m   3597\u001b[0m         interpolation\u001b[38;5;241m=\u001b[39minterpolation,\n\u001b[1;32m   3598\u001b[0m         alpha\u001b[38;5;241m=\u001b[39malpha,\n\u001b[1;32m   3599\u001b[0m         vmin\u001b[38;5;241m=\u001b[39mvmin,\n\u001b[1;32m   3600\u001b[0m         vmax\u001b[38;5;241m=\u001b[39mvmax,\n\u001b[1;32m   3601\u001b[0m         colorizer\u001b[38;5;241m=\u001b[39mcolorizer,\n\u001b[1;32m   3602\u001b[0m         origin\u001b[38;5;241m=\u001b[39morigin,\n\u001b[1;32m   3603\u001b[0m         extent\u001b[38;5;241m=\u001b[39mextent,\n\u001b[1;32m   3604\u001b[0m         interpolation_stage\u001b[38;5;241m=\u001b[39minterpolation_stage,\n\u001b[1;32m   3605\u001b[0m         filternorm\u001b[38;5;241m=\u001b[39mfilternorm,\n\u001b[1;32m   3606\u001b[0m         filterrad\u001b[38;5;241m=\u001b[39mfilterrad,\n\u001b[1;32m   3607\u001b[0m         resample\u001b[38;5;241m=\u001b[39mresample,\n\u001b[1;32m   3608\u001b[0m         url\u001b[38;5;241m=\u001b[39murl,\n\u001b[1;32m   3609\u001b[0m         \u001b[38;5;241m*\u001b[39m\u001b[38;5;241m*\u001b[39m({\u001b[38;5;124m\"\u001b[39m\u001b[38;5;124mdata\u001b[39m\u001b[38;5;124m\"\u001b[39m: data} \u001b[38;5;28;01mif\u001b[39;00m data \u001b[38;5;129;01mis\u001b[39;00m \u001b[38;5;129;01mnot\u001b[39;00m \u001b[38;5;28;01mNone\u001b[39;00m \u001b[38;5;28;01melse\u001b[39;00m {}),\n\u001b[1;32m   3610\u001b[0m         \u001b[38;5;241m*\u001b[39m\u001b[38;5;241m*\u001b[39mkwargs,\n\u001b[1;32m   3611\u001b[0m     )\n\u001b[1;32m   3612\u001b[0m     sci(__ret)\n\u001b[1;32m   3613\u001b[0m     \u001b[38;5;28;01mreturn\u001b[39;00m __ret\n",
      "File \u001b[0;32m~/miniconda3/envs/keras-tf-v2025/lib/python3.12/site-packages/matplotlib/__init__.py:1521\u001b[0m, in \u001b[0;36m_preprocess_data.<locals>.inner\u001b[0;34m(ax, data, *args, **kwargs)\u001b[0m\n\u001b[1;32m   1518\u001b[0m \u001b[38;5;129m@functools\u001b[39m\u001b[38;5;241m.\u001b[39mwraps(func)\n\u001b[1;32m   1519\u001b[0m \u001b[38;5;28;01mdef\u001b[39;00m \u001b[38;5;21minner\u001b[39m(ax, \u001b[38;5;241m*\u001b[39margs, data\u001b[38;5;241m=\u001b[39m\u001b[38;5;28;01mNone\u001b[39;00m, \u001b[38;5;241m*\u001b[39m\u001b[38;5;241m*\u001b[39mkwargs):\n\u001b[1;32m   1520\u001b[0m     \u001b[38;5;28;01mif\u001b[39;00m data \u001b[38;5;129;01mis\u001b[39;00m \u001b[38;5;28;01mNone\u001b[39;00m:\n\u001b[0;32m-> 1521\u001b[0m         \u001b[38;5;28;01mreturn\u001b[39;00m func(\n\u001b[1;32m   1522\u001b[0m             ax,\n\u001b[1;32m   1523\u001b[0m             \u001b[38;5;241m*\u001b[39m\u001b[38;5;28mmap\u001b[39m(cbook\u001b[38;5;241m.\u001b[39msanitize_sequence, args),\n\u001b[1;32m   1524\u001b[0m             \u001b[38;5;241m*\u001b[39m\u001b[38;5;241m*\u001b[39m{k: cbook\u001b[38;5;241m.\u001b[39msanitize_sequence(v) \u001b[38;5;28;01mfor\u001b[39;00m k, v \u001b[38;5;129;01min\u001b[39;00m kwargs\u001b[38;5;241m.\u001b[39mitems()})\n\u001b[1;32m   1526\u001b[0m     bound \u001b[38;5;241m=\u001b[39m new_sig\u001b[38;5;241m.\u001b[39mbind(ax, \u001b[38;5;241m*\u001b[39margs, \u001b[38;5;241m*\u001b[39m\u001b[38;5;241m*\u001b[39mkwargs)\n\u001b[1;32m   1527\u001b[0m     auto_label \u001b[38;5;241m=\u001b[39m (bound\u001b[38;5;241m.\u001b[39marguments\u001b[38;5;241m.\u001b[39mget(label_namer)\n\u001b[1;32m   1528\u001b[0m                   \u001b[38;5;129;01mor\u001b[39;00m bound\u001b[38;5;241m.\u001b[39mkwargs\u001b[38;5;241m.\u001b[39mget(label_namer))\n",
      "File \u001b[0;32m~/miniconda3/envs/keras-tf-v2025/lib/python3.12/site-packages/matplotlib/axes/_axes.py:5945\u001b[0m, in \u001b[0;36mAxes.imshow\u001b[0;34m(self, X, cmap, norm, aspect, interpolation, alpha, vmin, vmax, colorizer, origin, extent, interpolation_stage, filternorm, filterrad, resample, url, **kwargs)\u001b[0m\n\u001b[1;32m   5942\u001b[0m \u001b[38;5;28;01mif\u001b[39;00m aspect \u001b[38;5;129;01mis\u001b[39;00m \u001b[38;5;129;01mnot\u001b[39;00m \u001b[38;5;28;01mNone\u001b[39;00m:\n\u001b[1;32m   5943\u001b[0m     \u001b[38;5;28mself\u001b[39m\u001b[38;5;241m.\u001b[39mset_aspect(aspect)\n\u001b[0;32m-> 5945\u001b[0m im\u001b[38;5;241m.\u001b[39mset_data(X)\n\u001b[1;32m   5946\u001b[0m im\u001b[38;5;241m.\u001b[39mset_alpha(alpha)\n\u001b[1;32m   5947\u001b[0m \u001b[38;5;28;01mif\u001b[39;00m im\u001b[38;5;241m.\u001b[39mget_clip_path() \u001b[38;5;129;01mis\u001b[39;00m \u001b[38;5;28;01mNone\u001b[39;00m:\n\u001b[1;32m   5948\u001b[0m     \u001b[38;5;66;03m# image does not already have clipping set, clip to Axes patch\u001b[39;00m\n",
      "File \u001b[0;32m~/miniconda3/envs/keras-tf-v2025/lib/python3.12/site-packages/matplotlib/image.py:675\u001b[0m, in \u001b[0;36m_ImageBase.set_data\u001b[0;34m(self, A)\u001b[0m\n\u001b[1;32m    673\u001b[0m \u001b[38;5;28;01mif\u001b[39;00m \u001b[38;5;28misinstance\u001b[39m(A, PIL\u001b[38;5;241m.\u001b[39mImage\u001b[38;5;241m.\u001b[39mImage):\n\u001b[1;32m    674\u001b[0m     A \u001b[38;5;241m=\u001b[39m pil_to_array(A)  \u001b[38;5;66;03m# Needed e.g. to apply png palette.\u001b[39;00m\n\u001b[0;32m--> 675\u001b[0m \u001b[38;5;28mself\u001b[39m\u001b[38;5;241m.\u001b[39m_A \u001b[38;5;241m=\u001b[39m \u001b[38;5;28mself\u001b[39m\u001b[38;5;241m.\u001b[39m_normalize_image_array(A)\n\u001b[1;32m    676\u001b[0m \u001b[38;5;28mself\u001b[39m\u001b[38;5;241m.\u001b[39m_imcache \u001b[38;5;241m=\u001b[39m \u001b[38;5;28;01mNone\u001b[39;00m\n\u001b[1;32m    677\u001b[0m \u001b[38;5;28mself\u001b[39m\u001b[38;5;241m.\u001b[39mstale \u001b[38;5;241m=\u001b[39m \u001b[38;5;28;01mTrue\u001b[39;00m\n",
      "File \u001b[0;32m~/miniconda3/envs/keras-tf-v2025/lib/python3.12/site-packages/matplotlib/image.py:643\u001b[0m, in \u001b[0;36m_ImageBase._normalize_image_array\u001b[0;34m(A)\u001b[0m\n\u001b[1;32m    641\u001b[0m     A \u001b[38;5;241m=\u001b[39m A\u001b[38;5;241m.\u001b[39msqueeze(\u001b[38;5;241m-\u001b[39m\u001b[38;5;241m1\u001b[39m)  \u001b[38;5;66;03m# If just (M, N, 1), assume scalar and apply colormap.\u001b[39;00m\n\u001b[1;32m    642\u001b[0m \u001b[38;5;28;01mif\u001b[39;00m \u001b[38;5;129;01mnot\u001b[39;00m (A\u001b[38;5;241m.\u001b[39mndim \u001b[38;5;241m==\u001b[39m \u001b[38;5;241m2\u001b[39m \u001b[38;5;129;01mor\u001b[39;00m A\u001b[38;5;241m.\u001b[39mndim \u001b[38;5;241m==\u001b[39m \u001b[38;5;241m3\u001b[39m \u001b[38;5;129;01mand\u001b[39;00m A\u001b[38;5;241m.\u001b[39mshape[\u001b[38;5;241m-\u001b[39m\u001b[38;5;241m1\u001b[39m] \u001b[38;5;129;01min\u001b[39;00m [\u001b[38;5;241m3\u001b[39m, \u001b[38;5;241m4\u001b[39m]):\n\u001b[0;32m--> 643\u001b[0m     \u001b[38;5;28;01mraise\u001b[39;00m \u001b[38;5;167;01mTypeError\u001b[39;00m(\u001b[38;5;124mf\u001b[39m\u001b[38;5;124m\"\u001b[39m\u001b[38;5;124mInvalid shape \u001b[39m\u001b[38;5;132;01m{\u001b[39;00mA\u001b[38;5;241m.\u001b[39mshape\u001b[38;5;132;01m}\u001b[39;00m\u001b[38;5;124m for image data\u001b[39m\u001b[38;5;124m\"\u001b[39m)\n\u001b[1;32m    644\u001b[0m \u001b[38;5;28;01mif\u001b[39;00m A\u001b[38;5;241m.\u001b[39mndim \u001b[38;5;241m==\u001b[39m \u001b[38;5;241m3\u001b[39m:\n\u001b[1;32m    645\u001b[0m     \u001b[38;5;66;03m# If the input data has values outside the valid range (after\u001b[39;00m\n\u001b[1;32m    646\u001b[0m     \u001b[38;5;66;03m# normalisation), we issue a warning and then clip X to the bounds\u001b[39;00m\n\u001b[1;32m    647\u001b[0m     \u001b[38;5;66;03m# - otherwise casting wraps extreme values, hiding outliers and\u001b[39;00m\n\u001b[1;32m    648\u001b[0m     \u001b[38;5;66;03m# making reliable interpretation impossible.\u001b[39;00m\n\u001b[1;32m    649\u001b[0m     high \u001b[38;5;241m=\u001b[39m \u001b[38;5;241m255\u001b[39m \u001b[38;5;28;01mif\u001b[39;00m np\u001b[38;5;241m.\u001b[39missubdtype(A\u001b[38;5;241m.\u001b[39mdtype, np\u001b[38;5;241m.\u001b[39minteger) \u001b[38;5;28;01melse\u001b[39;00m \u001b[38;5;241m1\u001b[39m\n",
      "\u001b[0;31mTypeError\u001b[0m: Invalid shape (128, 128, 2) for image data"
     ]
    },
    {
     "data": {
      "image/png": "[encoded data removed]",
      "text/plain": [
       "<Figure size 500x500 with 1 Axes>"
      ]
     },
     "metadata": {},
     "output_type": "display_data"
    }
   ],
   "source": [
    "\n",
    "cmap = plt.get_cmap(\"tab20\", len(cluster_dict))  # Use a colormap with enough distinct colors\n",
    "\n",
    "# Plot the clustered image\n",
    "plt.figure(figsize=(5, 5))\n",
    "plt.imshow(image_clusters, cmap=cmap, interpolation=\"nearest\")\n",
    "plt.colorbar(ticks=range(len(cluster_dict)), label=\"Cluster Labels\")\n",
    "plt.title(f\"Clustered Image ({square_size}x{square_size})\")\n",
    "plt.show()\n",
    "\n",
    "# Plot the visible spectrum data as an RGB image\n",
    "plt.figure(figsize=(5, 5))\n",
    "rgb_image = data[1, :, :, 8:]  # Normalize to [0, 1] range for RGB\n",
    "plt.imshow(rgb_image, interpolation=\"nearest\")\n",
    "plt.title(\"Visible Spectrum Data (RGB)\")\n",
    "plt.axis(\"off\")  # Turn off axis for better visualization\n",
    "plt.show()\n",
    "\n",
    "# pearson correlation\n",
    "\n"
   ]
  },
  {
   "cell_type": "code",
   "execution_count": 22,
   "metadata": {},
   "outputs": [
    {
     "name": "stderr",
     "output_type": "stream",
     "text": [
      "/home/tcarlyon/miniconda3/envs/keras-tf-v2025/lib/python3.12/site-packages/minisom.py:631: RuntimeWarning: invalid value encountered in sqrt\n",
      "  return sqrt(-2 * cross_term + input_data_sq + weights_flat_sq.T)\n"
     ]
    },
    {
     "name": "stdout",
     "output_type": "stream",
     "text": [
      "Topographic Error: 0.8002903312444687\n"
     ]
    }
   ],
   "source": [
    "# psuedo code for evaluating the som\n",
    "\n",
    "# evaluate topographic error\n",
    "\n",
    "topoError = som.topographic_error(reshaped_data)\n",
    "\n",
    "print(f\"Topographic Error: {topoError}\")\n",
    "\n",
    "# vary learning rate and sigma values those are the most important\n"
   ]
  }
 ],
 "metadata": {
  "kernelspec": {
   "display_name": "keras-tf-v2025",
   "language": "python",
   "name": "python3"
  },
  "language_info": {
   "codemirror_mode": {
    "name": "ipython",
    "version": 3
   },
   "file_extension": ".py",
   "mimetype": "text/x-python",
   "name": "python",
   "nbconvert_exporter": "python",
   "pygments_lexer": "ipython3",
   "version": "3.12.8"
  }
 },
 "nbformat": 4,
 "nbformat_minor": 2
}
