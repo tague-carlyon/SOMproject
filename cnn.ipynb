{
 "cells": [
  {
   "cell_type": "code",
   "execution_count": null,
   "metadata": {},
   "outputs": [],
   "source": [
    "import matplotlib.pyplot as plt\n",
    "import numpy as np\n",
    "import os\n",
    "import dataGathandMan\n",
    "from minisom import MiniSom\n",
    "from itertools import product\n",
    "import pickle"
   ]
  },
  {
   "cell_type": "code",
   "execution_count": null,
   "metadata": {},
   "outputs": [],
   "source": [
    "# Get all image paths in the folder\n",
    "folder_path = \"/home/tcarlyon/classes/aiclass/RawData/\"\n",
    "image_paths = [os.path.join(folder_path, f) for f in os.listdir(folder_path) if f.endswith('.tiff')]\n",
    "square_size = 64\n",
    "\n",
    "# Randomly sample patches\n",
    "random_all_patches = dataGathandMan.random_sample_patches(image_paths, square_size)\n",
    "# Ensure the data shape is correct\n",
    "print(f\"random_all_patches shape: {random_all_patches.shape}\")"
   ]
  },
  {
   "cell_type": "code",
   "execution_count": null,
   "metadata": {},
   "outputs": [],
   "source": [
    "# Reshape the data for clustering\n",
    "reshaped_patches = random_all_patches.reshape(2048 * square_size**2, 12)\n",
    "print(reshaped_patches.shape)\n",
    "print(f\"first data point before reshape: {random_all_patches[0, 0, 0, :]}\")\n",
    "print(f\"first data point after reshape: {reshaped_patches[0]}\")\n",
    "print(f\"last data point before reshape: {random_all_patches[-1, -1, -1, :]}\")\n",
    "print(f\"last data point after reshape: {reshaped_patches[-1]}\")\n",
    "\n"
   ]
  },
  {
   "cell_type": "code",
   "execution_count": null,
   "metadata": {},
   "outputs": [],
   "source": [
    "# SOM hyperparameters\n",
    "\n",
    "# set som lattice dimensions (i.e., number of nodes)\n",
    "som_grid_rows = 3\n",
    "som_grid_columns = 3\n",
    "\n",
    "# number of weights per node\n",
    "input_length = 12\n",
    "\n",
    "# Spread of the neighborhood function, needs to be adequate to the dimensions\n",
    "# of the map. (rows/columns minus 1 usually)\n",
    "sigma = 2.0\n",
    "\n",
    "# initial learning rate (at the iteration t we have learning_rate(t) =\n",
    "# learning_rate / (1 + t/T) where T is #num_iteration/2)\n",
    "learning_rate = 0.5\n",
    "\n",
    "# Function that reduces learning_rate at each iteration\n",
    "# Possible values: 'inverse_decay_to_zero', 'linear_decay_to_zero', 'asymptotic_decay'\n",
    "# 'inverse_decay_to_zero' == > C = max_iter / 100.0; where, learning_rate * C / (C + t)\n",
    "# 'linear_decay_to_zero' == > learning_rate * (1 - t / max_iter)\n",
    "# 'asymptotic_decay' == > dynamic_parameter / (1 + t / (max_iter / 2))\n",
    "# ^^Decay function of the learning process and sigma that decays these values asymptotically to 1/3 of their original values.\n",
    "decay_function='inverse_decay_to_zero'\n",
    "\n",
    "# Function that reduces sigma at each iteration.\n",
    "# Possible values: 'inverse_decay_to_one', 'linear_decay_to_one', 'asymptotic_decay'\n",
    "# 'inverse_decay_to_one' == > C = (sigma - 1) / max_iter; where, sigma / (1 + (t * C))\n",
    "# 'linear_decay_to_one' == > sigma + (t * (1 - sigma) / max_iter)\n",
    "sigma_decay_function='inverse_decay_to_one'\n",
    "\n",
    "# Function that weights the neighborhood of a position in the map.\n",
    "# Possible values: 'gaussian', 'mexican_hat', 'bubble', 'triangle',\n",
    "# which takes in sigma.\n",
    "neighborhood_function = 'gaussian'\n",
    "\n",
    "# Topology of the map; Possible values: 'rectangular', 'hexagonal'\n",
    "topology = 'rectangular'\n",
    "\n",
    "# Distance used to activate the map; Possible values: 'euclidean', 'cosine', 'manhattan', 'chebyshev'\n",
    "activation_distance = 'euclidean'\n",
    "\n",
    "# Random seed to use for reproducibility. Using 1.\n",
    "random_seed = 1"
   ]
  },
  {
   "cell_type": "code",
   "execution_count": null,
   "metadata": {},
   "outputs": [],
   "source": [
    "# lets create our som object with preset hyperparameters\n",
    "som = MiniSom(\n",
    "            som_grid_rows,\n",
    "            som_grid_columns,\n",
    "            input_length,\n",
    "            sigma,\n",
    "            learning_rate,\n",
    "            decay_function,\n",
    "            neighborhood_function,\n",
    "            topology,\n",
    "            activation_distance,\n",
    "            random_seed,\n",
    "            sigma_decay_function\n",
    "            )"
   ]
  },
  {
   "cell_type": "code",
   "execution_count": null,
   "metadata": {},
   "outputs": [],
   "source": [
    "som"
   ]
  },
  {
   "cell_type": "code",
   "execution_count": null,
   "metadata": {},
   "outputs": [],
   "source": [
    "# some training hyperparameters\n",
    "epochs = 25\n",
    "random_order = True\n",
    "verbose = True\n",
    "\n",
    "# let's initialize the weights\n",
    "som.random_weights_init(reshaped_patches)\n",
    "# now train!\n",
    "errors = []\n",
    "for epoch in range(epochs):\n",
    "    som.train(reshaped_patches, 1, random_order, verbose)\n",
    "    quantization_error = som.quantization_error(reshaped_patches)\n",
    "    errors.append(quantization_error)\n",
    "\n",
    "# Plot the training validation curve\n",
    "plt.figure()\n",
    "plt.plot(range(epochs), errors, label=\"Quantization Error\")\n",
    "plt.xlabel(\"Epoch\")\n",
    "plt.ylabel(\"Quantization Error\")\n",
    "plt.title(\"Training Validation Curve\")\n",
    "plt.legend()\n",
    "plt.show()\n",
    "\n",
    "# saving the som in the file som.p\n",
    "with open('som.p', 'wb') as outfile:\n",
    "    pickle.dump(som, outfile)"
   ]
  },
  {
   "cell_type": "code",
   "execution_count": null,
   "metadata": {},
   "outputs": [],
   "source": [
    "print(f\"random_all_patches shape: {random_all_patches.shape}\")\n",
    "plt.figure()\n",
    "frequencies = som.activation_response(random_all_patches[0].reshape(square_size**2, 12))\n",
    "plt.pcolormesh(frequencies, cmap='Blues')\n",
    "plt.colorbar()\n",
    "plt.title(\"data frequency (2d histogram) across SOM lattice\", fontsize=12)\n",
    "plt.ylim(som_grid_rows, 0)  # flip the y axis to be the same as composite map axes later\n",
    "plt.show()\n"
   ]
  },
  {
   "cell_type": "code",
   "execution_count": null,
   "metadata": {},
   "outputs": [],
   "source": [
    "# grabbing indices from SOM\n",
    "\n",
    "# create an empty dictionary using the rows and columns of SOM\n",
    "keys = [i for i in product(range(som_grid_rows), range(som_grid_columns))]\n",
    "winmap = {key: [] for key in keys}\n",
    "\n",
    "# grab the indices for the data within the SOM lattice\n",
    "for i, x in enumerate(random_all_patches[0].reshape(square_size ** 2, 12)):\n",
    "    winmap[som.winner(x)].append(i)\n",
    "\n",
    "som_keys = list(winmap.keys())\n",
    "print(f\"Number of SOM nodes: {len(som_keys)}\")"
   ]
  },
  {
   "cell_type": "code",
   "execution_count": null,
   "metadata": {},
   "outputs": [],
   "source": [
    "winmap[(0,0)]"
   ]
  },
  {
   "cell_type": "code",
   "execution_count": null,
   "metadata": {},
   "outputs": [],
   "source": [
    "# Define cluster_dict from winmap\n",
    "cluster_dict = {key: value for key, value in winmap.items() if value}\n",
    "\n",
    "# Define height and width based on square_size\n",
    "height, width = square_size, square_size\n",
    "\n",
    "# Initialize a 1D array for cluster labels, default to -1 (unlabeled)\n",
    "flattened_labels = np.full(square_size**2, -1)\n",
    "\n",
    "# Assign each pixel to its corresponding cluster index\n",
    "for cluster_idx, (cluster_name, pixel_indices) in enumerate(cluster_dict.items()):\n",
    "    flattened_labels[pixel_indices] = cluster_idx  # Assign a unique index to each cluster\n",
    "\n",
    "# Reshape to 2D\n",
    "image_clusters = flattened_labels.reshape(height, width)\n"
   ]
  },
  {
   "cell_type": "code",
   "execution_count": null,
   "metadata": {},
   "outputs": [],
   "source": [
    "\n",
    "# Plot the clustered image\n",
    "plt.figure(figsize=(5, 5))\n",
    "plt.imshow(image_clusters, cmap=\"tab10\", interpolation=\"nearest\")\n",
    "plt.colorbar(ticks=range(len(cluster_dict)), label=\"Cluster Labels\")\n",
    "plt.title(f\"Clustered Image ({square_size}x{square_size})\")\n",
    "plt.show()\n",
    "\n",
    "# Plot the visible spectrum data as an RGB image\n",
    "plt.figure(figsize=(5, 5))\n",
    "rgb_image = random_all_patches[0, :, :, :3]  # Normalize to [0, 1] range for RGB\n",
    "plt.imshow(rgb_image, interpolation=\"nearest\")\n",
    "plt.title(\"Visible Spectrum Data (RGB)\")\n",
    "plt.axis(\"off\")  # Turn off axis for better visualization\n",
    "plt.show()"
   ]
  }
 ],
 "metadata": {
  "kernelspec": {
   "display_name": "aiclass",
   "language": "python",
   "name": "python3"
  },
  "language_info": {
   "codemirror_mode": {
    "name": "ipython",
    "version": 3
   },
   "file_extension": ".py",
   "mimetype": "text/x-python",
   "name": "python",
   "nbconvert_exporter": "python",
   "pygments_lexer": "ipython3",
   "version": "3.12.9"
  }
 },
 "nbformat": 4,
 "nbformat_minor": 2
}
