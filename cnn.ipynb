{
 "cells": [
  {
   "cell_type": "code",
   "execution_count": 31,
   "metadata": {},
   "outputs": [],
   "source": [
    "import tensorflow as tf\n",
    "import matplotlib.pyplot as plt\n",
    "import numpy as np\n",
    "import os\n",
    "import dataGathandMan\n",
    "from sklearn.cluster import KMeans\n",
    "from sklearn.preprocessing import StandardScaler\n",
    "from minisom import MiniSom\n",
    "from itertools import product\n",
    "import pickle"
   ]
  },
  {
   "cell_type": "code",
   "execution_count": 11,
   "metadata": {},
   "outputs": [
    {
     "name": "stdout",
     "output_type": "stream",
     "text": [
      "all_patches shape: (2048, 64, 64, 12)\n",
      "random_all_patches shape: (2048, 64, 64, 12)\n"
     ]
    }
   ],
   "source": [
    "# Get all image paths in the folder\n",
    "folder_path = \"/home/tague/classes/aiclass/RawData/\"\n",
    "image_paths = [os.path.join(folder_path, f) for f in os.listdir(folder_path) if f.endswith('.tiff')]\n",
    "square_size = 64\n",
    "\n",
    "# Randomly sample patches\n",
    "random_all_patches = dataGathandMan.random_sample_patches(image_paths, square_size)\n",
    "# Ensure the data shape is correct\n",
    "print(f\"random_all_patches shape: {random_all_patches.shape}\")"
   ]
  },
  {
   "cell_type": "code",
   "execution_count": 30,
   "metadata": {},
   "outputs": [
    {
     "name": "stdout",
     "output_type": "stream",
     "text": [
      "(8388608, 12)\n"
     ]
    }
   ],
   "source": [
    "# Reshape the data for clustering\n",
    "reshaped_patches = random_all_patches.reshape(2048 * square_size**2, 12)\n",
    "print(reshaped_patches.shape)"
   ]
  },
  {
   "cell_type": "code",
   "execution_count": 13,
   "metadata": {},
   "outputs": [],
   "source": [
    "# SOM hyperparameters\n",
    "\n",
    "# set som lattice dimensions (i.e., number of nodes)\n",
    "som_grid_rows = 3\n",
    "som_grid_columns = 3\n",
    "\n",
    "# number of weights per node\n",
    "input_length = 12\n",
    "\n",
    "# Spread of the neighborhood function, needs to be adequate to the dimensions\n",
    "# of the map. (rows/columns minus 1 usually)\n",
    "sigma = 2.0\n",
    "\n",
    "# initial learning rate (at the iteration t we have learning_rate(t) =\n",
    "# learning_rate / (1 + t/T) where T is #num_iteration/2)\n",
    "learning_rate = 0.5\n",
    "\n",
    "# Function that reduces learning_rate at each iteration\n",
    "# Possible values: 'inverse_decay_to_zero', 'linear_decay_to_zero', 'asymptotic_decay'\n",
    "# 'inverse_decay_to_zero' == > C = max_iter / 100.0; where, learning_rate * C / (C + t)\n",
    "# 'linear_decay_to_zero' == > learning_rate * (1 - t / max_iter)\n",
    "# 'asymptotic_decay' == > dynamic_parameter / (1 + t / (max_iter / 2))\n",
    "# ^^Decay function of the learning process and sigma that decays these values asymptotically to 1/3 of their original values.\n",
    "decay_function='inverse_decay_to_zero'\n",
    "\n",
    "# Function that reduces sigma at each iteration.\n",
    "# Possible values: 'inverse_decay_to_one', 'linear_decay_to_one', 'asymptotic_decay'\n",
    "# 'inverse_decay_to_one' == > C = (sigma - 1) / max_iter; where, sigma / (1 + (t * C))\n",
    "# 'linear_decay_to_one' == > sigma + (t * (1 - sigma) / max_iter)\n",
    "sigma_decay_function='inverse_decay_to_one'\n",
    "\n",
    "# Function that weights the neighborhood of a position in the map.\n",
    "# Possible values: 'gaussian', 'mexican_hat', 'bubble', 'triangle',\n",
    "# which takes in sigma.\n",
    "neighborhood_function = 'gaussian'\n",
    "\n",
    "# Topology of the map; Possible values: 'rectangular', 'hexagonal'\n",
    "topology = 'rectangular'\n",
    "\n",
    "# Distance used to activate the map; Possible values: 'euclidean', 'cosine', 'manhattan', 'chebyshev'\n",
    "activation_distance = 'euclidean'\n",
    "\n",
    "# Random seed to use for reproducibility. Using 1.\n",
    "random_seed = 1"
   ]
  },
  {
   "cell_type": "code",
   "execution_count": 14,
   "metadata": {},
   "outputs": [],
   "source": [
    "# lets create our som object with preset hyperparameters\n",
    "som = MiniSom(\n",
    "            som_grid_rows,\n",
    "            som_grid_columns,\n",
    "            input_length,\n",
    "            sigma,\n",
    "            learning_rate,\n",
    "            decay_function,\n",
    "            neighborhood_function,\n",
    "            topology,\n",
    "            activation_distance,\n",
    "            random_seed,\n",
    "            sigma_decay_function\n",
    "            )"
   ]
  },
  {
   "cell_type": "code",
   "execution_count": 6,
   "metadata": {},
   "outputs": [
    {
     "data": {
      "text/plain": [
       "<minisom.MiniSom at 0x7ab0fc4be240>"
      ]
     },
     "execution_count": 6,
     "metadata": {},
     "output_type": "execute_result"
    }
   ],
   "source": [
    "som"
   ]
  },
  {
   "cell_type": "code",
   "execution_count": 32,
   "metadata": {},
   "outputs": [
    {
     "name": "stdout",
     "output_type": "stream",
     "text": [
      " [ 10000 / 10000 ] 100% - 0:00:00 left \n",
      " quantization error: 131.95389684728093\n"
     ]
    }
   ],
   "source": [
    "# some training hyperparameters\n",
    "epochs = 10000\n",
    "random_order = True\n",
    "verbose = True\n",
    "\n",
    "# let's initialize the weights\n",
    "som.random_weights_init(reshaped_patches)\n",
    "# now train!\n",
    "som.train(\n",
    "    reshaped_patches,\n",
    "    epochs,\n",
    "    random_order,\n",
    "    verbose\n",
    "    )\n",
    "\n",
    "# saving the som in the file som.p\n",
    "with open('som.p', 'wb') as outfile:\n",
    "    pickle.dump(som, outfile)"
   ]
  },
  {
   "cell_type": "code",
   "execution_count": 25,
   "metadata": {},
   "outputs": [
    {
     "data": {
      "image/png": "[encoded data removed]",
      "text/plain": [
       "<Figure size 640x480 with 2 Axes>"
      ]
     },
     "metadata": {},
     "output_type": "display_data"
    }
   ],
   "source": [
    "plt.figure()\n",
    "frequencies = som.activation_response(reshaped_patches)\n",
    "plt.pcolormesh(frequencies, cmap='Blues')\n",
    "plt.colorbar()\n",
    "plt.title(\"data frequency (2d histogram) across SOM lattice\", fontsize=12)\n",
    "plt.ylim(som_grid_rows, 0)  # flip the y axis to be the same as composite map axes later\n",
    "plt.show()\n"
   ]
  },
  {
   "cell_type": "code",
   "execution_count": 26,
   "metadata": {},
   "outputs": [
    {
     "name": "stdout",
     "output_type": "stream",
     "text": [
      "Number of SOM nodes: 9\n"
     ]
    }
   ],
   "source": [
    "# grabbing indices from SOM\n",
    "\n",
    "# create an empty dictionary using the rows and columns of SOM\n",
    "keys = [i for i in product(range(som_grid_rows), range(som_grid_columns))]\n",
    "winmap = {key: [] for key in keys}\n",
    "\n",
    "# grab the indices for the data within the SOM lattice\n",
    "for i, x in enumerate(reshaped_patches):\n",
    "    winmap[som.winner(x)].append(i)\n",
    "\n",
    "som_keys = list(winmap.keys())\n",
    "print(f\"Number of SOM nodes: {len(som_keys)}\")"
   ]
  },
  {
   "cell_type": "code",
   "execution_count": 28,
   "metadata": {},
   "outputs": [
    {
     "data": {
      "text/plain": [
       "[30,\n",
       " 40,\n",
       " 47,\n",
       " 48,\n",
       " 49,\n",
       " 50,\n",
       " 51,\n",
       " 52,\n",
       " 53,\n",
       " 59,\n",
       " 60,\n",
       " 61,\n",
       " 62,\n",
       " 63,\n",
       " 70,\n",
       " 71,\n",
       " 72,\n",
       " 73,\n",
       " 80,\n",
       " 81,\n",
       " 82,\n",
       " 83,\n",
       " 90,\n",
       " 91,\n",
       " 92,\n",
       " 93]"
      ]
     },
     "execution_count": 28,
     "metadata": {},
     "output_type": "execute_result"
    }
   ],
   "source": [
    "winmap[(0,0)]"
   ]
  },
  {
   "cell_type": "code",
   "execution_count": 27,
   "metadata": {},
   "outputs": [
    {
     "data": {
      "image/png": "[encoded data removed]",
      "text/plain": [
       "<Figure size 500x500 with 2 Axes>"
      ]
     },
     "metadata": {},
     "output_type": "display_data"
    }
   ],
   "source": [
    "# Define cluster_dict from winmap\n",
    "cluster_dict = {key: value for key, value in winmap.items() if value}\n",
    "\n",
    "# Define height and width based on square_size\n",
    "height, width = square_size, square_size\n",
    "\n",
    "# Initialize a 1D array for cluster labels, default to -1 (unlabeled)\n",
    "flattened_labels = np.full(square_size**2, -1)\n",
    "\n",
    "# Assign each pixel to its corresponding cluster index\n",
    "for cluster_idx, (cluster_name, pixel_indices) in enumerate(cluster_dict.items()):\n",
    "    flattened_labels[pixel_indices] = cluster_idx  # Assign a unique index to each cluster\n",
    "\n",
    "# Reshape to 2D\n",
    "image_clusters = flattened_labels.reshape(height, width)\n",
    "\n",
    "# Plot the clustered image\n",
    "plt.figure(figsize=(5, 5))\n",
    "plt.imshow(image_clusters, cmap=\"tab10\", interpolation=\"nearest\")\n",
    "plt.colorbar(ticks=range(len(cluster_dict)), label=\"Cluster Labels\")\n",
    "plt.title(\"Clustered Image (10x10)\")\n",
    "plt.show()"
   ]
  }
 ],
 "metadata": {
  "kernelspec": {
   "display_name": "keras-tf-v2025",
   "language": "python",
   "name": "python3"
  },
  "language_info": {
   "codemirror_mode": {
    "name": "ipython",
    "version": 3
   },
   "file_extension": ".py",
   "mimetype": "text/x-python",
   "name": "python",
   "nbconvert_exporter": "python",
   "pygments_lexer": "ipython3",
   "version": "3.12.8"
  }
 },
 "nbformat": 4,
 "nbformat_minor": 2
}
